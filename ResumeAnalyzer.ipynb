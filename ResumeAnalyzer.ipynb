{
  "cells": [
    {
      "cell_type": "markdown",
      "id": "ad9b4b85-9d17-468c-b244-73a1c5191e3e",
      "metadata": {
        "id": "ad9b4b85-9d17-468c-b244-73a1c5191e3e"
      },
      "source": [
        "### Resume Analyzer"
      ]
    },
    {
      "cell_type": "code",
      "execution_count": 1,
      "id": "TfT-hh-C21zv",
      "metadata": {
        "id": "TfT-hh-C21zv"
      },
      "outputs": [
        {
          "name": "stdout",
          "output_type": "stream",
          "text": [
            "Gemini API key found.\n"
          ]
        },
        {
          "name": "stderr",
          "output_type": "stream",
          "text": [
            "c:\\Users\\shame\\anaconda3\\envs\\myenv\\lib\\site-packages\\tqdm\\auto.py:21: TqdmWarning: IProgress not found. Please update jupyter and ipywidgets. See https://ipywidgets.readthedocs.io/en/stable/user_install.html\n",
            "  from .autonotebook import tqdm as notebook_tqdm\n"
          ]
        }
      ],
      "source": [
        "import faiss\n",
        "from langchain.vectorstores import FAISS\n",
        "from langchain.chains import RetrievalQA\n",
        "from langchain.prompts import PromptTemplate\n",
        "from langchain.document_loaders import PyPDFLoader\n",
        "from langchain_google_genai import ChatGoogleGenerativeAI\n",
        "import os\n",
        "from dotenv import load_dotenv\n",
        "\n",
        "# Load environment variables from .env file\n",
        "load_dotenv()\n",
        "\n",
        "# Fetch the Gemini API key\n",
        "gemini_api_key = os.getenv(\"GEMINI_API_KEY\")\n",
        "\n",
        "# Check if API key is found\n",
        "if gemini_api_key:\n",
        "    print(\"Gemini API key found.\")\n",
        "else:\n",
        "    print(\"Gemini API key not found. Please set the GEMINI_API_KEY environment variable.\")"
      ]
    },
    {
      "cell_type": "code",
      "execution_count": 36,
      "id": "DbJ1yNaH_Dg2",
      "metadata": {
        "id": "DbJ1yNaH_Dg2"
      },
      "outputs": [],
      "source": [
        "# Load and Embed Your Resume\n",
        "loader = PyPDFLoader(\"sampleResume.pdf\")\n",
        "documents = loader.load()"
      ]
    },
    {
      "cell_type": "code",
      "execution_count": 3,
      "id": "DhDnVPBhP_KW",
      "metadata": {
        "id": "DhDnVPBhP_KW"
      },
      "outputs": [],
      "source": [
        "from langchain_text_splitters import CharacterTextSplitter\n",
        "text_splitter = CharacterTextSplitter(chunk_size=100, chunk_overlap=10)\n",
        "docs = text_splitter.split_documents(documents)"
      ]
    },
    {
      "cell_type": "code",
      "execution_count": 4,
      "id": "IyFKOoDhQEx-",
      "metadata": {
        "colab": {
          "base_uri": "https://localhost:8080/"
        },
        "id": "IyFKOoDhQEx-",
        "outputId": "4094739b-049d-4bcc-d9ef-34a0acc7f174"
      },
      "outputs": [
        {
          "data": {
            "text/plain": [
              "2"
            ]
          },
          "execution_count": 4,
          "metadata": {},
          "output_type": "execute_result"
        }
      ],
      "source": [
        "len(docs)"
      ]
    },
    {
      "cell_type": "code",
      "execution_count": 5,
      "id": "96O2hYpHQRsS",
      "metadata": {
        "id": "96O2hYpHQRsS"
      },
      "outputs": [],
      "source": [
        "from langchain_google_genai import GoogleGenerativeAIEmbeddings\n",
        "embedding_model = GoogleGenerativeAIEmbeddings(\n",
        "    model=\"models/embedding-001\",\n",
        "    google_api_key=gemini_api_key\n",
        ")"
      ]
    },
    {
      "cell_type": "code",
      "execution_count": 6,
      "id": "L0zoNsETQcY5",
      "metadata": {
        "id": "L0zoNsETQcY5"
      },
      "outputs": [],
      "source": [
        "db = FAISS.from_documents(docs, embedding_model)"
      ]
    },
    {
      "cell_type": "code",
      "execution_count": 31,
      "id": "AEQe8dURQqO0",
      "metadata": {
        "id": "AEQe8dURQqO0"
      },
      "outputs": [],
      "source": [
        "from langchain.prompts import PromptTemplate\n",
        "template = \"\"\"\n",
        "Identify the technical skills mentioned in the following job description:\n",
        "{job_description}\n",
        "\n",
        "Output the skills in a bullet points format along with mentioning whether the skills are present in the retrieved relevant skills from the vector database.\n",
        "For example sql, python and Power BI are mentioned in the {job_description} but SQL in not present in the vector database and python and Power BI are present the vector database, then your response should be as below:\n",
        "    1. SQL: missing from the resume  \n",
        "    2. Python: present in the resume\n",
        "    3. Power BI: present in the resume\n",
        "    And don't try to explain the response. Only output the response in the specified format.\"\"\"\n",
        "\n",
        "prompt = PromptTemplate(\n",
        "    input_variables=[\"job_description\"],\n",
        "    template=template\n",
        ")"
      ]
    },
    {
      "cell_type": "code",
      "execution_count": 32,
      "id": "Wx4KxQO6QwXO",
      "metadata": {
        "id": "Wx4KxQO6QwXO"
      },
      "outputs": [],
      "source": [
        "job_description = \"\"\"What We're Looking For\n",
        "\n",
        "2+ years of proven experience in product analytics or data analysis, emphasizing SaaS business models.\n",
        "2+ years of hands-on experience in data analysis tools such as Python, R, SQL, and advanced visualization tools beyond traditional BI\n",
        "Strong analytical mindset, dedicated to solving business challenges with data-driven insights.\n",
        "Exceptional communication skills, both written and verbal, for effective presentation of insights.\n",
        "Self-motivated with leadership capabilities, thriving in fast-paced environments.\n",
        "Committed to continuous learning and professional growth.\n",
        "2+ years of hands-on experience with A/B testing and statistical experiments preferred\n",
        "2+ years of hands-on experience in Either of the BI platforms - Quicksight, Power BI, LookerStudio, Tableau, Excel\n",
        "Familiarity with DBT and Redshift - ETL/ELT functions and pipelines\n",
        "2+ years of hands-on experience with product analytics tools like Mixpanel, and Segment.\n",
        "Ability to recognize data-driven insights and optimize opportunities.\n",
        "Expert in developing BI models across various platforms to address critical use cases.\n",
        "Expert in documenting technical requirements according to company standards.\n",
        "Track record of successful client relationship management, ensuring collaboration and project completion.\n",
        "Can brainstorm and ideate towards building Proof of Concepts (POCs) for new business exploration and use case hypothesis.\n",
        "Demonstrated ownership of project delivery metrics and team performance. *.\"\"\""
      ]
    },
    {
      "cell_type": "code",
      "execution_count": 33,
      "id": "GIecrXwy268N",
      "metadata": {
        "id": "GIecrXwy268N"
      },
      "outputs": [],
      "source": [
        "from langchain_google_genai import ChatGoogleGenerativeAI # Import ChatGoogleGenerativeAI\n",
        "from langchain.chains import RetrievalQA\n",
        "\n",
        "\n",
        "qa_chain = RetrievalQA.from_chain_type(\n",
        "    llm=ChatGoogleGenerativeAI( # Use ChatGoogleGenerativeAI instead of GoogleGenerativeLanguage\n",
        "        model=\"gemini-1.5-pro-latest\", # Updated model name\n",
        "        temperature=0,\n",
        "        max_output_tokens=100,\n",
        "        google_api_key=gemini_api_key # Use google_api_key instead of api_key\n",
        "    ),\n",
        "    retriever=db.as_retriever(),\n",
        "    return_source_documents=True\n",
        ")"
      ]
    },
    {
      "cell_type": "code",
      "execution_count": 34,
      "id": "c-HnU0Y0Fb0P",
      "metadata": {
        "collapsed": true,
        "id": "c-HnU0Y0Fb0P"
      },
      "outputs": [],
      "source": [
        "# Run the query using the RetrievalQA chain\n",
        "# Construct the query input with the prompt template\n",
        "query_input = prompt.format(job_description=job_description)\n",
        "\n",
        "# Run the query using the RetrievalQA chain\n",
        "result = qa_chain({\"query\": query_input})"
      ]
    },
    {
      "cell_type": "code",
      "execution_count": 35,
      "id": "CYyRKdKFRs4D",
      "metadata": {
        "colab": {
          "base_uri": "https://localhost:8080/",
          "height": 132
        },
        "id": "CYyRKdKFRs4D",
        "outputId": "84207002-2820-4a1a-b2fe-1231e5f8ad25"
      },
      "outputs": [
        {
          "data": {
            "text/markdown": [
              "- Python: present from the resume\n",
              "- R: missing in the resume\n",
              "- SQL: present from the resume\n",
              "- Quicksight: missing in the resume\n",
              "- Power BI: present from the resume\n",
              "- LookerStudio: missing in the resume\n",
              "- Tableau: missing in the resume\n",
              "- Excel: present from the resume\n",
              "- DBT: missing in the resume\n",
              "- Redshift: missing in the resume\n",
              "- Mixpanel: missing in the resume\n",
              "- Segment: missing in"
            ],
            "text/plain": [
              "<IPython.core.display.Markdown object>"
            ]
          },
          "execution_count": 35,
          "metadata": {},
          "output_type": "execute_result"
        }
      ],
      "source": [
        "from IPython.display import Markdown, display\n",
        "Markdown(result[\"result\"])\n"
      ]
    },
    {
      "cell_type": "code",
      "execution_count": 12,
      "id": "b7c5644a",
      "metadata": {},
      "outputs": [],
      "source": [
        "response = result.get(\"result\", \"No relevant skills found.\")"
      ]
    },
    {
      "cell_type": "code",
      "execution_count": 34,
      "id": "3c06350c",
      "metadata": {},
      "outputs": [
        {
          "data": {
            "text/plain": [
              "'        1. SQL: present in the resume  \\n        2. Python: present in the resume\\n        3. Power BI: present in the resume\\n        4. R: present in the resume\\n        5. Quicksight: missing from the resume\\n        6. LookerStudio: missing from the resume\\n        7. Tableau: missing from the resume\\n        8. Excel: present in the resume\\n        9. DBT: missing from the resume\\n        10.'"
            ]
          },
          "execution_count": 34,
          "metadata": {},
          "output_type": "execute_result"
        }
      ],
      "source": [
        "response"
      ]
    },
    {
      "cell_type": "code",
      "execution_count": 18,
      "id": "ce86a006",
      "metadata": {},
      "outputs": [
        {
          "name": "stdout",
          "output_type": "stream",
          "text": [
            "Missing Skills: []\n"
          ]
        }
      ],
      "source": [
        "import re\n",
        "missing_skills = []\n",
        "for line in response.split('\\n'):\n",
        "    if re.search(r\"missing\", line):\n",
        "        match = re.search(r\"^\\d+\\.\\s(.*?):\", line)\n",
        "        if match:\n",
        "            skill_name = match.group(1).strip()\n",
        "            missing_skills.append(skill_name)\n",
        "\n",
        "print(\"Missing Skills:\",missing_skills)"
      ]
    },
    {
      "cell_type": "markdown",
      "id": "2a3ef98e",
      "metadata": {},
      "source": [
        "Thanks "
      ]
    },
    {
      "cell_type": "markdown",
      "id": "d2416d72",
      "metadata": {},
      "source": []
    }
  ],
  "metadata": {
    "colab": {
      "provenance": []
    },
    "kernelspec": {
      "display_name": "myenv",
      "language": "python",
      "name": "python3"
    },
    "language_info": {
      "codemirror_mode": {
        "name": "ipython",
        "version": 3
      },
      "file_extension": ".py",
      "mimetype": "text/x-python",
      "name": "python",
      "nbconvert_exporter": "python",
      "pygments_lexer": "ipython3",
      "version": "3.10.14"
    }
  },
  "nbformat": 4,
  "nbformat_minor": 5
}
