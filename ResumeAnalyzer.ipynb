{
  "cells": [
    {
      "cell_type": "markdown",
      "id": "ad9b4b85-9d17-468c-b244-73a1c5191e3e",
      "metadata": {
        "id": "ad9b4b85-9d17-468c-b244-73a1c5191e3e"
      },
      "source": [
        "### Resume Analyzer"
      ]
    },
    {
      "cell_type": "code",
      "execution_count": 1,
      "id": "TfT-hh-C21zv",
      "metadata": {
        "id": "TfT-hh-C21zv"
      },
      "outputs": [
        {
          "name": "stdout",
          "output_type": "stream",
          "text": [
            "Gemini API key found.\n"
          ]
        },
        {
          "name": "stderr",
          "output_type": "stream",
          "text": [
            "c:\\Users\\shame\\Desktop\\gemini\\myenv\\Lib\\site-packages\\tqdm\\auto.py:21: TqdmWarning: IProgress not found. Please update jupyter and ipywidgets. See https://ipywidgets.readthedocs.io/en/stable/user_install.html\n",
            "  from .autonotebook import tqdm as notebook_tqdm\n"
          ]
        }
      ],
      "source": [
        "import faiss\n",
        "from langchain.vectorstores import FAISS\n",
        "from langchain.chains import RetrievalQA\n",
        "from langchain.prompts import PromptTemplate\n",
        "from langchain.document_loaders import PyPDFLoader\n",
        "from langchain_google_genai import ChatGoogleGenerativeAI\n",
        "import os\n",
        "from dotenv import load_dotenv\n",
        "\n",
        "# Load environment variables from .env file\n",
        "load_dotenv()\n",
        "\n",
        "# Fetch the Gemini API key\n",
        "gemini_api_key = os.getenv(\"GEMINI_API_KEY\")\n",
        "\n",
        "# Check if API key is found\n",
        "if gemini_api_key:\n",
        "    print(\"Gemini API key found.\")\n",
        "else:\n",
        "    print(\"Gemini API key not found. Please set the GEMINI_API_KEY environment variable.\")"
      ]
    },
    {
      "cell_type": "code",
      "execution_count": 2,
      "id": "DbJ1yNaH_Dg2",
      "metadata": {
        "id": "DbJ1yNaH_Dg2"
      },
      "outputs": [],
      "source": [
        "# Load and Embed Your Resume\n",
        "loader = PyPDFLoader(\"sampleResume.pdf\")\n",
        "documents = loader.load()\n",
        "\n",
        "# Extract text from the resume\n",
        "texts = [doc.page_content for doc in documents]"
      ]
    },
    {
      "cell_type": "code",
      "execution_count": 3,
      "id": "DhDnVPBhP_KW",
      "metadata": {
        "id": "DhDnVPBhP_KW"
      },
      "outputs": [],
      "source": [
        "from langchain_text_splitters import CharacterTextSplitter\n",
        "text_splitter = CharacterTextSplitter(chunk_size=100, chunk_overlap=10)\n",
        "docs = text_splitter.split_documents(documents)"
      ]
    },
    {
      "cell_type": "code",
      "execution_count": 4,
      "id": "IyFKOoDhQEx-",
      "metadata": {
        "colab": {
          "base_uri": "https://localhost:8080/"
        },
        "id": "IyFKOoDhQEx-",
        "outputId": "4094739b-049d-4bcc-d9ef-34a0acc7f174"
      },
      "outputs": [
        {
          "data": {
            "text/plain": [
              "2"
            ]
          },
          "execution_count": 4,
          "metadata": {},
          "output_type": "execute_result"
        }
      ],
      "source": [
        "len(docs)"
      ]
    },
    {
      "cell_type": "code",
      "execution_count": 5,
      "id": "96O2hYpHQRsS",
      "metadata": {
        "id": "96O2hYpHQRsS"
      },
      "outputs": [],
      "source": [
        "from langchain_google_genai import GoogleGenerativeAIEmbeddings\n",
        "embedding_model = GoogleGenerativeAIEmbeddings(\n",
        "    model=\"models/embedding-001\",\n",
        "    google_api_key=gemini_api_key\n",
        ")"
      ]
    },
    {
      "cell_type": "code",
      "execution_count": 6,
      "id": "L0zoNsETQcY5",
      "metadata": {
        "id": "L0zoNsETQcY5"
      },
      "outputs": [],
      "source": [
        "db = FAISS.from_documents(docs, embedding_model)"
      ]
    },
    {
      "cell_type": "code",
      "execution_count": 7,
      "id": "AEQe8dURQqO0",
      "metadata": {
        "id": "AEQe8dURQqO0"
      },
      "outputs": [],
      "source": [
        "from langchain.prompts import PromptTemplate\n",
        "template = \"\"\"\n",
        "Your task is as a helpful assistant is to identify technical skills and tools mentioned in the following Job Description:\n",
        "{job_description_text}\n",
        "that are not present in the retrieved context from vector database:\n",
        "{resume_text}\n",
        "Please output the skills in a structured format.\n",
        "\n",
        "For example sql is mentioned in the resume but python and Power BI are not present, then your response should be as below:\n",
        "        1. SQL: present in the resume  \n",
        "        2. Python: missing from the resume\n",
        "        3. Power BI: missing from the resume\n",
        "        And don't try to explain the response. Only output the response in the specified format.\n",
        "\"\"\"\n",
        "\n",
        "prompt = PromptTemplate(\n",
        "    input_variables=[\"job_description\", \"resume_text\"],\n",
        "    template=template\n",
        ")"
      ]
    },
    {
      "cell_type": "code",
      "execution_count": 8,
      "id": "Wx4KxQO6QwXO",
      "metadata": {
        "id": "Wx4KxQO6QwXO"
      },
      "outputs": [],
      "source": [
        "job_description = \"\"\"What We're Looking For\n",
        "\n",
        "2+ years of proven experience in product analytics or data analysis, emphasizing SaaS business models.\n",
        "2+ years of hands-on experience in data analysis tools such as Python, R, SQL, and advanced visualization tools beyond traditional BI\n",
        "Strong analytical mindset, dedicated to solving business challenges with data-driven insights.\n",
        "Exceptional communication skills, both written and verbal, for effective presentation of insights.\n",
        "Self-motivated with leadership capabilities, thriving in fast-paced environments.\n",
        "Committed to continuous learning and professional growth.\n",
        "2+ years of hands-on experience with A/B testing and statistical experiments preferred\n",
        "2+ years of hands-on experience in Either of the BI platforms - Quicksight, Power BI, LookerStudio, Tableau, Excel\n",
        "Familiarity with DBT and Redshift - ETL/ELT functions and pipelines\n",
        "2+ years of hands-on experience with product analytics tools like Mixpanel, and Segment.\n",
        "Ability to recognize data-driven insights and optimize opportunities.\n",
        "Expert in developing BI models across various platforms to address critical use cases.\n",
        "Expert in documenting technical requirements according to company standards.\n",
        "Track record of successful client relationship management, ensuring collaboration and project completion.\n",
        "Can brainstorm and ideate towards building Proof of Concepts (POCs) for new business exploration and use case hypothesis.\n",
        "Demonstrated ownership of project delivery metrics and team performance. *.\"\"\"\n",
        "resume_text = \"\\n\".join(texts)  # Combine the extracted resume text"
      ]
    },
    {
      "cell_type": "code",
      "execution_count": 9,
      "id": "GIecrXwy268N",
      "metadata": {
        "id": "GIecrXwy268N"
      },
      "outputs": [],
      "source": [
        "from langchain_google_genai import ChatGoogleGenerativeAI # Import ChatGoogleGenerativeAI\n",
        "from langchain.chains import RetrievalQA\n",
        "\n",
        "\n",
        "qa_chain = RetrievalQA.from_chain_type(\n",
        "    llm=ChatGoogleGenerativeAI( # Use ChatGoogleGenerativeAI instead of GoogleGenerativeLanguage\n",
        "        model=\"gemini-1.5-pro-latest\", # Updated model name\n",
        "        temperature=0,\n",
        "        max_output_tokens=100,\n",
        "        google_api_key=gemini_api_key # Use google_api_key instead of api_key\n",
        "    ),\n",
        "    retriever=db.as_retriever(),\n",
        "    return_source_documents=True\n",
        ")"
      ]
    },
    {
      "cell_type": "code",
      "execution_count": 10,
      "id": "c-HnU0Y0Fb0P",
      "metadata": {
        "collapsed": true,
        "id": "c-HnU0Y0Fb0P"
      },
      "outputs": [
        {
          "name": "stderr",
          "output_type": "stream",
          "text": [
            "C:\\Users\\shame\\AppData\\Local\\Temp\\ipykernel_5144\\1018509787.py:6: LangChainDeprecationWarning: The method `Chain.__call__` was deprecated in langchain 0.1.0 and will be removed in 1.0. Use :meth:`~invoke` instead.\n",
            "  result = qa_chain({\"query\": query_input})\n"
          ]
        }
      ],
      "source": [
        "# Run the query using the RetrievalQA chain\n",
        "# Construct the query input with the prompt template\n",
        "query_input = template.format(job_description_text=job_description, resume_text=resume_text)\n",
        "\n",
        "# Run the query using the RetrievalQA chain\n",
        "result = qa_chain({\"query\": query_input})"
      ]
    },
    {
      "cell_type": "code",
      "execution_count": 12,
      "id": "CYyRKdKFRs4D",
      "metadata": {
        "colab": {
          "base_uri": "https://localhost:8080/",
          "height": 132
        },
        "id": "CYyRKdKFRs4D",
        "outputId": "84207002-2820-4a1a-b2fe-1231e5f8ad25"
      },
      "outputs": [
        {
          "data": {
            "text/markdown": [
              "        1. SQL: present in the resume\n",
              "        2. Python: present in the resume\n",
              "        3. R: present in the resume\n",
              "        4. Quicksight: missing from the resume\n",
              "        5. LookerStudio: missing from the resume\n",
              "        6. Tableau: missing from the resume\n",
              "        7. Excel: present in the resume\n",
              "        8. DBT: missing from the resume\n",
              "        9. Redshift: missing from the resume\n",
              "        10. Mix"
            ],
            "text/plain": [
              "<IPython.core.display.Markdown object>"
            ]
          },
          "execution_count": 12,
          "metadata": {},
          "output_type": "execute_result"
        }
      ],
      "source": [
        "from IPython.display import Markdown, display\n",
        "Markdown(result[\"result\"])\n"
      ]
    },
    {
      "cell_type": "code",
      "execution_count": 13,
      "id": "b7c5644a",
      "metadata": {},
      "outputs": [],
      "source": [
        "response = result.get(\"result\", \"No relevant skills found.\")"
      ]
    },
    {
      "cell_type": "code",
      "execution_count": 17,
      "id": "3c06350c",
      "metadata": {},
      "outputs": [
        {
          "data": {
            "text/plain": [
              "'        1. SQL: present in the resume\\n        2. Python: present in the resume\\n        3. R: present in the resume\\n        4. Quicksight: missing from the resume\\n        5. LookerStudio: missing from the resume\\n        6. Tableau: missing from the resume\\n        7. Excel: present in the resume\\n        8. DBT: missing from the resume\\n        9. Redshift: missing from the resume\\n        10. Mix'"
            ]
          },
          "execution_count": 17,
          "metadata": {},
          "output_type": "execute_result"
        }
      ],
      "source": [
        "response"
      ]
    },
    {
      "cell_type": "code",
      "execution_count": 18,
      "id": "ce86a006",
      "metadata": {},
      "outputs": [
        {
          "name": "stdout",
          "output_type": "stream",
          "text": [
            "Missing Skills: []\n"
          ]
        }
      ],
      "source": [
        "import re\n",
        "missing_skills = []\n",
        "for line in response.split('\\n'):\n",
        "    if re.search(r\"missing\", line):\n",
        "        match = re.search(r\"^\\d+\\.\\s(.*?):\", line)\n",
        "        if match:\n",
        "            skill_name = match.group(1).strip()\n",
        "            missing_skills.append(skill_name)\n",
        "\n",
        "print(\"Missing Skills:\",missing_skills)"
      ]
    },
    {
      "cell_type": "markdown",
      "id": "2a3ef98e",
      "metadata": {},
      "source": [
        "Thanks "
      ]
    },
    {
      "cell_type": "markdown",
      "id": "d2416d72",
      "metadata": {},
      "source": []
    }
  ],
  "metadata": {
    "colab": {
      "provenance": []
    },
    "kernelspec": {
      "display_name": "myenv",
      "language": "python",
      "name": "python3"
    },
    "language_info": {
      "codemirror_mode": {
        "name": "ipython",
        "version": 3
      },
      "file_extension": ".py",
      "mimetype": "text/x-python",
      "name": "python",
      "nbconvert_exporter": "python",
      "pygments_lexer": "ipython3",
      "version": "3.12.7"
    }
  },
  "nbformat": 4,
  "nbformat_minor": 5
}
